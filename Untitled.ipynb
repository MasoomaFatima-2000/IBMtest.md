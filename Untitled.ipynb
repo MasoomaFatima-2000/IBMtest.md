{
 "cells": [
  {
   "cell_type": "markdown",
   "id": "806d7cd7",
   "metadata": {},
   "source": [
    "# My Jupiter Notebook on IBM Watson Studio"
   ]
  },
  {
   "cell_type": "markdown",
   "id": "29efe56a",
   "metadata": {},
   "source": [
    "**NAME: SYEDA MASOOMA FATIMA ZAIDI**"
   ]
  },
  {
   "cell_type": "markdown",
   "id": "bdf3c940",
   "metadata": {},
   "source": [
    "Occupation: a data scientist or may be a software devaloper"
   ]
  },
  {
   "cell_type": "markdown",
   "id": "71424b6d",
   "metadata": {},
   "source": [
    "*I am interested in data science beacuse to extract informatio from data seems to be very interesting*\n",
    "*As the time is passing and we have to set our goals according to the need of time and i see a lot of demand in data science* "
   ]
  },
  {
   "cell_type": "markdown",
   "id": "10f00256",
   "metadata": {},
   "source": [
    "### A Fibonacci Series Code"
   ]
  },
  {
   "cell_type": "code",
   "execution_count": 1,
   "id": "f5776330",
   "metadata": {},
   "outputs": [
    {
     "name": "stdout",
     "output_type": "stream",
     "text": [
      "34\n"
     ]
    }
   ],
   "source": [
    "def fibonacci(n):\n",
    "    a = 0\n",
    "    b = 1\n",
    "     \n",
    "    \n",
    "    if n < 0:\n",
    "        print(\"Incorrect input\")\n",
    "         \n",
    "    \n",
    "    elif n == 0:\n",
    "        return 0\n",
    "       \n",
    "    \n",
    "    elif n == 1:\n",
    "        return b\n",
    "    else:\n",
    "        for i in range(1, n):\n",
    "            c = a + b\n",
    "            a = b\n",
    "            b = c\n",
    "        return b\n",
    " \n",
    " \n",
    "print(fibonacci(9))"
   ]
  },
  {
   "cell_type": "markdown",
   "id": "ea150df0",
   "metadata": {},
   "source": [
    "#Tables\n",
    "| Heading | Heading |\n",
    "| ----| ----|\n",
    "| text   | text |\n",
    "| text | text |\n",
    "#Numbered list\n",
    "1. IBM data science\n",
    "2. A usefull course\n",
    "3. very interesting\n",
    "#Bullets\n",
    "- - -\n",
    "#Indented quoting\n",
    "> IBM Data Science"
   ]
  },
  {
   "cell_type": "code",
   "execution_count": null,
   "id": "149cf113",
   "metadata": {},
   "outputs": [],
   "source": []
  }
 ],
 "metadata": {
  "kernelspec": {
   "display_name": "Python 3 (ipykernel)",
   "language": "python",
   "name": "python3"
  },
  "language_info": {
   "codemirror_mode": {
    "name": "ipython",
    "version": 3
   },
   "file_extension": ".py",
   "mimetype": "text/x-python",
   "name": "python",
   "nbconvert_exporter": "python",
   "pygments_lexer": "ipython3",
   "version": "3.9.13"
  }
 },
 "nbformat": 4,
 "nbformat_minor": 5
}
